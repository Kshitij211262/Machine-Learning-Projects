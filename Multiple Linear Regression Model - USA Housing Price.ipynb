{
 "cells": [
  {
   "cell_type": "code",
   "execution_count": null,
   "id": "4a141370",
   "metadata": {},
   "outputs": [],
   "source": [
    "import os\n",
    "import numpy as np\n",
    "import pandas as pd\n",
    "import matplotlib.pyplot as plt\n",
    "%matplotlib inline\n",
    "import seaborn as sns\n",
    "sns.set()\n",
    "\n",
    "import warnings\n",
    "warnings.filterwarnings(\"ignore\")"
   ]
  },
  {
   "cell_type": "code",
   "execution_count": null,
   "id": "4b6f27be",
   "metadata": {},
   "outputs": [],
   "source": [
    "Housing = pd.read_csv(\"USA_Housing.csv\")\n",
    "Housing.head()"
   ]
  },
  {
   "cell_type": "code",
   "execution_count": null,
   "id": "dc72eeeb",
   "metadata": {},
   "outputs": [],
   "source": [
    "Housing.info()"
   ]
  },
  {
   "cell_type": "code",
   "execution_count": null,
   "id": "b1bbda17",
   "metadata": {},
   "outputs": [],
   "source": [
    "Housing.describe()"
   ]
  },
  {
   "cell_type": "markdown",
   "id": "1071dfc9",
   "metadata": {},
   "source": [
    "# Data Preprocessing \n",
    "### 1) Handling missing data\n",
    "### 2) Outlier Treatement\n",
    "### 3) Feature Scaling"
   ]
  },
  {
   "cell_type": "code",
   "execution_count": null,
   "id": "0498a3db",
   "metadata": {},
   "outputs": [],
   "source": [
    "Housing.isnull().sum()"
   ]
  },
  {
   "cell_type": "code",
   "execution_count": null,
   "id": "d402376f",
   "metadata": {},
   "outputs": [],
   "source": [
    "Housing.isnull().sum()/len(Housing)*100"
   ]
  },
  {
   "cell_type": "code",
   "execution_count": null,
   "id": "7dffedad",
   "metadata": {},
   "outputs": [],
   "source": [
    "sns.boxplot(y ='Avg. Area Income', data=Housing)\n",
    "plt.show()"
   ]
  },
  {
   "cell_type": "code",
   "execution_count": null,
   "id": "acc3ee23",
   "metadata": {},
   "outputs": [],
   "source": [
    "Housing['Avg. Area Income'] = Housing['Avg. Area Income'].fillna(Housing['Avg. Area Income'].median())"
   ]
  },
  {
   "cell_type": "code",
   "execution_count": null,
   "id": "3d5162b0",
   "metadata": {},
   "outputs": [],
   "source": [
    "sns.boxplot(y ='Avg. Area Number of Rooms', data=Housing)\n",
    "plt.show()"
   ]
  },
  {
   "cell_type": "code",
   "execution_count": null,
   "id": "ef55c29a",
   "metadata": {},
   "outputs": [],
   "source": [
    "Housing['Avg. Area Number of Rooms'] = Housing['Avg. Area Number of Rooms'].fillna(Housing['Avg. Area Number of Rooms'].median())"
   ]
  },
  {
   "cell_type": "code",
   "execution_count": null,
   "id": "52dc9b59",
   "metadata": {},
   "outputs": [],
   "source": [
    "sns.boxplot(y ='Avg. Area Number of Bedrooms', data=Housing)\n",
    "plt.show()"
   ]
  },
  {
   "cell_type": "code",
   "execution_count": null,
   "id": "e0ca8093",
   "metadata": {},
   "outputs": [],
   "source": [
    "Housing['Avg. Area Number of Bedrooms'] = Housing['Avg. Area Number of Bedrooms'].fillna(Housing['Avg. Area Number of Bedrooms'].mean())"
   ]
  },
  {
   "cell_type": "code",
   "execution_count": null,
   "id": "e555937d",
   "metadata": {},
   "outputs": [],
   "source": [
    "Housing.isnull().sum()"
   ]
  },
  {
   "cell_type": "code",
   "execution_count": null,
   "id": "fbaed198",
   "metadata": {},
   "outputs": [],
   "source": [
    "Housing.info()"
   ]
  },
  {
   "cell_type": "code",
   "execution_count": null,
   "id": "8b490845",
   "metadata": {},
   "outputs": [],
   "source": [
    "def boxplots(col):\n",
    "    sns.boxplot(Housing[col])\n",
    "    plt.show()\n",
    "\n",
    "for i in list(Housing.select_dtypes(exclude=['object']).columns)[0:]:\n",
    "    boxplots(i)"
   ]
  },
  {
   "cell_type": "code",
   "execution_count": null,
   "id": "304a8ac1",
   "metadata": {},
   "outputs": [],
   "source": [
    "Housing.dtypes"
   ]
  },
  {
   "cell_type": "code",
   "execution_count": null,
   "id": "904e1418",
   "metadata": {},
   "outputs": [],
   "source": [
    "# we have to handle outlier for the listed variables\n",
    "# Avg. Area Income , Avg. Area House Age , Avg. Area Number of Rooms and Area Population"
   ]
  },
  {
   "cell_type": "code",
   "execution_count": null,
   "id": "0fc115fd",
   "metadata": {},
   "outputs": [],
   "source": [
    "income_q1 = Housing['Avg. Area Income'].quantile(0.25)\n",
    "income_q3 = Housing['Avg. Area Income'].quantile(0.75)\n",
    "income_iqr =income_q3 - income_q1\n",
    "lower_limit = income_q1 - 1.5*income_iqr\n",
    "upper_limit = income_q3  + 1.5 * income_iqr"
   ]
  },
  {
   "cell_type": "code",
   "execution_count": null,
   "id": "8ed2cfa6",
   "metadata": {},
   "outputs": [],
   "source": [
    "Housing['Avg. Area Income'] = np.where(Housing['Avg. Area Income'] > upper_limit, upper_limit,\n",
    "                                      np.where(Housing['Avg. Area Income'] < lower_limit,\n",
    "                                              lower_limit, Housing['Avg. Area Income']))"
   ]
  },
  {
   "cell_type": "code",
   "execution_count": null,
   "id": "c68c21fb",
   "metadata": {},
   "outputs": [],
   "source": [
    "sns.boxplot(y ='Avg. Area Income', data=Housing)\n",
    "plt.show()"
   ]
  },
  {
   "cell_type": "code",
   "execution_count": null,
   "id": "ceada3a5",
   "metadata": {},
   "outputs": [],
   "source": [
    "income_q1 = Housing['Avg. Area House Age'].quantile(0.25)\n",
    "income_q3 = Housing['Avg. Area House Age'].quantile(0.75)\n",
    "income_iqr =income_q3 - income_q1\n",
    "lower_limit = income_q1 - 1.5*income_iqr\n",
    "upper_limit = income_q3  + 1.5 * income_iqr"
   ]
  },
  {
   "cell_type": "code",
   "execution_count": null,
   "id": "b5dfa062",
   "metadata": {},
   "outputs": [],
   "source": [
    "Housing['Avg. Area House Age'] = np.where(Housing['Avg. Area House Age'] > upper_limit, upper_limit,\n",
    "                                      np.where(Housing['Avg. Area House Age'] < lower_limit,\n",
    "                                              lower_limit, Housing['Avg. Area House Age']))"
   ]
  },
  {
   "cell_type": "code",
   "execution_count": null,
   "id": "28326ecd",
   "metadata": {},
   "outputs": [],
   "source": [
    "income_q1 = Housing['Avg. Area Number of Rooms'].quantile(0.25)\n",
    "income_q3 = Housing['Avg. Area Number of Rooms'].quantile(0.75)\n",
    "income_iqr =income_q3 - income_q1\n",
    "lower_limit = income_q1 - 1.5*income_iqr\n",
    "upper_limit = income_q3  + 1.5 * income_iqr"
   ]
  },
  {
   "cell_type": "code",
   "execution_count": null,
   "id": "ce755712",
   "metadata": {},
   "outputs": [],
   "source": [
    "Housing['Avg. Area Number of Rooms'] = np.where(Housing['Avg. Area Number of Rooms'] > upper_limit, upper_limit,\n",
    "                                      np.where(Housing['Avg. Area Number of Rooms'] < lower_limit,\n",
    "                                              lower_limit, Housing['Avg. Area Number of Rooms']))"
   ]
  },
  {
   "cell_type": "code",
   "execution_count": null,
   "id": "ce889939",
   "metadata": {},
   "outputs": [],
   "source": [
    "income_q1 = Housing['Area Population'].quantile(0.25)\n",
    "income_q3 = Housing['Area Population'].quantile(0.75)\n",
    "income_iqr =income_q3 - income_q1\n",
    "lower_limit = income_q1 - 1.5*income_iqr\n",
    "upper_limit = income_q3  + 1.5 * income_iqr"
   ]
  },
  {
   "cell_type": "code",
   "execution_count": null,
   "id": "2365abc4",
   "metadata": {},
   "outputs": [],
   "source": [
    "Housing['Area Population'] = np.where(Housing['Area Population'] > upper_limit, upper_limit,\n",
    "                                      np.where(Housing['Area Population'] < lower_limit,\n",
    "                                              lower_limit, Housing['Area Population']))"
   ]
  },
  {
   "cell_type": "code",
   "execution_count": null,
   "id": "c91a03ca",
   "metadata": {},
   "outputs": [],
   "source": [
    "def boxplots(col):\n",
    "    sns.boxplot(Housing[col])\n",
    "    plt.show()\n",
    "\n",
    "for i in list(Housing.select_dtypes(exclude=['object']).columns)[0:]:\n",
    "    boxplots(i)"
   ]
  },
  {
   "cell_type": "code",
   "execution_count": null,
   "id": "110087bc",
   "metadata": {},
   "outputs": [],
   "source": [
    "x = Housing.iloc[:,0:-1] \n",
    "y = Housing.iloc[:,-1]"
   ]
  },
  {
   "cell_type": "code",
   "execution_count": null,
   "id": "5fd0c59d",
   "metadata": {},
   "outputs": [],
   "source": [
    "x.head()"
   ]
  },
  {
   "cell_type": "code",
   "execution_count": null,
   "id": "4366f581",
   "metadata": {},
   "outputs": [],
   "source": [
    "y.head()"
   ]
  },
  {
   "cell_type": "code",
   "execution_count": null,
   "id": "410b1253",
   "metadata": {},
   "outputs": [],
   "source": [
    "# Feature Scaling\n",
    "from sklearn.preprocessing import StandardScaler\n",
    "scaler = StandardScaler()\n",
    "sc_x = scaler.fit_transform(x)\n",
    "pd.DataFrame(sc_x)"
   ]
  },
  {
   "cell_type": "markdown",
   "id": "d35f0497",
   "metadata": {},
   "source": [
    "# Finding correlation"
   ]
  },
  {
   "cell_type": "code",
   "execution_count": null,
   "id": "9d4836fb",
   "metadata": {},
   "outputs": [],
   "source": [
    "plt.figure(figsize=(20,15))\n",
    "#corr = Housing.corr()\n",
    "sns.heatmap(Housing.corr(), annot=True, cmap='coolwarm')\n",
    "plt.show()"
   ]
  },
  {
   "cell_type": "code",
   "execution_count": null,
   "id": "b5ba9082",
   "metadata": {},
   "outputs": [],
   "source": [
    "# split the data into training and testing whereas training is for building a model and testing is for predicting and evaluation\n",
    "from sklearn.model_selection import train_test_split\n",
    "x_train, x_test, y_train, y_test = train_test_split(x,y,test_size=0.2, random_state=0)"
   ]
  },
  {
   "cell_type": "code",
   "execution_count": null,
   "id": "45035ff3",
   "metadata": {},
   "outputs": [],
   "source": [
    "print(x_train.shape)\n",
    "print(x_test.shape)"
   ]
  },
  {
   "cell_type": "code",
   "execution_count": null,
   "id": "677588cd",
   "metadata": {},
   "outputs": [],
   "source": [
    "print(y_train.shape)\n",
    "print(y_test.shape)"
   ]
  },
  {
   "cell_type": "code",
   "execution_count": null,
   "id": "00b7d0f7",
   "metadata": {},
   "outputs": [],
   "source": [
    "x_test"
   ]
  },
  {
   "cell_type": "markdown",
   "id": "fe089f19",
   "metadata": {},
   "source": [
    "# Building Model - Linear Regression"
   ]
  },
  {
   "cell_type": "markdown",
   "id": "3b23d9a0",
   "metadata": {},
   "source": [
    "### Approach no 1 - basic method"
   ]
  },
  {
   "cell_type": "code",
   "execution_count": null,
   "id": "545be52d",
   "metadata": {},
   "outputs": [],
   "source": [
    "from sklearn.linear_model import LinearRegression\n",
    "lm = LinearRegression()\n",
    "lm.fit(x_train, y_train)"
   ]
  },
  {
   "cell_type": "code",
   "execution_count": null,
   "id": "d3824f42",
   "metadata": {},
   "outputs": [],
   "source": [
    "print(lm.coef_)"
   ]
  },
  {
   "cell_type": "code",
   "execution_count": null,
   "id": "d7f3473e",
   "metadata": {},
   "outputs": [],
   "source": [
    "print(lm.intercept_)"
   ]
  },
  {
   "cell_type": "code",
   "execution_count": null,
   "id": "aaee5379",
   "metadata": {},
   "outputs": [],
   "source": [
    "x.columns"
   ]
  },
  {
   "cell_type": "code",
   "execution_count": null,
   "id": "410f89f3",
   "metadata": {},
   "outputs": [],
   "source": [
    "Price = 2.17614093e+01*50000 + 1.67097451e+05*5+1.20854863e+05*3+1.89086080e+03*3+1.53789291e+01*50000 -2666909.114657062"
   ]
  },
  {
   "cell_type": "code",
   "execution_count": null,
   "id": "56752041",
   "metadata": {},
   "outputs": [],
   "source": [
    "Price"
   ]
  },
  {
   "cell_type": "code",
   "execution_count": null,
   "id": "52bbbcec",
   "metadata": {},
   "outputs": [],
   "source": [
    "x_test"
   ]
  },
  {
   "cell_type": "markdown",
   "id": "9fa31909",
   "metadata": {},
   "source": [
    "# Predict test dataset with linear model"
   ]
  },
  {
   "cell_type": "code",
   "execution_count": null,
   "id": "a4e78376",
   "metadata": {},
   "outputs": [],
   "source": [
    "y_pred = lm.predict(x_test)\n",
    "y_pred"
   ]
  },
  {
   "cell_type": "code",
   "execution_count": null,
   "id": "caf3d3e4",
   "metadata": {},
   "outputs": [],
   "source": [
    "y_test"
   ]
  },
  {
   "cell_type": "markdown",
   "id": "1b324f3e",
   "metadata": {},
   "source": [
    "# Evaluation "
   ]
  },
  {
   "cell_type": "code",
   "execution_count": null,
   "id": "538d32cb",
   "metadata": {},
   "outputs": [],
   "source": [
    "from sklearn.metrics import r2_score\n",
    "print(\"Accuracy :\", r2_score(y_test, y_pred))"
   ]
  },
  {
   "cell_type": "code",
   "execution_count": null,
   "id": "0eab49d9",
   "metadata": {},
   "outputs": [],
   "source": []
  }
 ],
 "metadata": {
  "kernelspec": {
   "display_name": "Python [conda env:base] *",
   "language": "python",
   "name": "conda-base-py"
  },
  "language_info": {
   "codemirror_mode": {
    "name": "ipython",
    "version": 3
   },
   "file_extension": ".py",
   "mimetype": "text/x-python",
   "name": "python",
   "nbconvert_exporter": "python",
   "pygments_lexer": "ipython3",
   "version": "3.12.7"
  }
 },
 "nbformat": 4,
 "nbformat_minor": 5
}
